{
 "metadata": {
  "language_info": {
   "codemirror_mode": {
    "name": "ipython",
    "version": 3
   },
   "file_extension": ".py",
   "mimetype": "text/x-python",
   "name": "python",
   "nbconvert_exporter": "python",
   "pygments_lexer": "ipython3",
   "version": 3
  },
  "orig_nbformat": 4
 },
 "nbformat": 4,
 "nbformat_minor": 2,
 "cells": [
  {
   "cell_type": "code",
   "execution_count": null,
   "metadata": {},
   "outputs": [],
   "source": [
    "##Background to this script: all the developer information downloaded from the website in one cell per row - this script cleans and splits that data out into multiple columns, then saves as a new .xlsx file\n",
    "\n",
    "import pandas as pd\n",
    "import numpy as np\n",
    "\n",
    "##Note: will need to resave the downloaded files as .xlsx before running this script, or pandas can read them\n",
    "\n",
    "con_file_path = ##File path for downloaded contractors file\n",
    "dev_file_path = ##File path for downloaded developers file\n",
    "save_file_path = ##File path for final saved file\n",
    "\n",
    "def detail_dataframes(file_path):\n",
    "    df = pd.read_excel(file_path)\n",
    "\n",
    "    df = df.drop(['Notes', 'Assigned To', 'Priority'], axis=1)\n",
    "\n",
    "    df['Name'] = df['Details'].str.split('-', n=1, expand=True)[0]\n",
    "\n",
    "    df['Details'] = df['Details'].str.replace(', ','*')+'*'\n",
    "\n",
    "    cols = ['Phone', 'Mobile', 'Email', 'Website', 'Fax']\n",
    "    for i in cols:\n",
    "        df[i] = df['Details'].str.extract('\\*'+i+':\\s(.*?)\\*')\n",
    "\n",
    "    for i in cols:\n",
    "        df['Details'] = df['Details'].str.replace(i+'(.*)', '', regex=True)\n",
    "\n",
    "    df['Address'] = df['Details'].str.extract('\\*(.*)\\*')\n",
    "\n",
    "    df['Address'] = df['Address'].str.replace('*', ', ', regex=False)\n",
    "\n",
    "    df = df.drop('Details', axis=1)\n",
    "\n",
    "    df = df[['Name', 'Type', 'Projects', 'Total Value', 'Address', 'Phone', 'Mobile', 'Email', 'Website', 'Fax']]\n",
    "\n",
    "    return df\n",
    "\n",
    "##Contractors Dataframe\n",
    "contractors = detail_dataframes(con_file_path)\n",
    "##Developers Dataframe\n",
    "developers = detail_dataframes(dev_file_path)\n",
    "##Combined dataframes\n",
    "combined = pd.concat([contractors, developers], ignore_index=True)\n",
    "\n",
    "##Save\n",
    "combined.to_excel(save_file_path)"
   ]
  }
 ]
}