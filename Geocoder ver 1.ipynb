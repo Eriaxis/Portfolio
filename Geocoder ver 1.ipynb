{
 "metadata": {
  "language_info": {
   "codemirror_mode": {
    "name": "ipython",
    "version": 3
   },
   "file_extension": ".py",
   "mimetype": "text/x-python",
   "name": "python",
   "nbconvert_exporter": "python",
   "pygments_lexer": "ipython3",
   "version": "3.8.8"
  },
  "orig_nbformat": 2,
  "kernelspec": {
   "name": "python3",
   "display_name": "Python 3.8.8 64-bit ('base': conda)"
  },
  "interpreter": {
   "hash": "25b53fce9236b95c5882560f830a4f7d03369ad372d46ab4328a35e9088e3774"
  }
 },
 "nbformat": 4,
 "nbformat_minor": 2,
 "cells": [
  {
   "cell_type": "code",
   "execution_count": null,
   "metadata": {},
   "outputs": [],
   "source": [
    "##create address list from excel file\n",
    "import pandas as pd\n",
    "import numpy as np\n",
    "import re\n",
    "\n",
    "path = ##Add path to excel file containing addresses here\n",
    "\n",
    "df = pd.read_excel(path, \"Longlats\")\n",
    "\n",
    "##address1 == full list with duplicates, in case you need that later\n",
    "address1 = df['Address'].tolist()\n",
    "\n",
    "##remove duplicates\n",
    "address = list(dict.fromkeys(address1))"
   ]
  },
  {
   "cell_type": "code",
   "execution_count": null,
   "metadata": {},
   "outputs": [],
   "source": [
    "##create address list from multiple excel files\n",
    "import pandas as pd\n",
    "import numpy as np\n",
    "\n",
    "full_address_list = []\n",
    "\n",
    "fn_base = ##insert folder location\n",
    "fn_list = [] ##list of spreadsheet names containing addresses\n",
    "\n",
    "for i in fn_list:\n",
    "    df = pd.read_excel(fn_base+i)\n",
    "\n",
    "    ##address1 == full list with duplicates, in case you need that later\n",
    "    address1 = df['Address'].tolist()\n",
    "    full_address_list.append(address1)\n",
    "\n",
    "##flatten list\n",
    "full_address_list = [item for sublist in full_address_list for item in sublist]\n",
    "\n",
    "##remove duplicates\n",
    "address = list(dict.fromkeys(full_address_list))"
   ]
  },
  {
   "cell_type": "code",
   "execution_count": null,
   "metadata": {},
   "outputs": [],
   "source": [
    "##for checking all addresses were read and duplicates were cleaned successfully\n",
    "len(address)"
   ]
  },
  {
   "cell_type": "code",
   "execution_count": null,
   "metadata": {},
   "outputs": [],
   "source": [
    "from selenium import webdriver\n",
    "from selenium.webdriver.chrome.options import Options\n",
    "from selenium.webdriver.common.by import By\n",
    "from selenium.webdriver.support.ui import WebDriverWait\n",
    "from selenium.webdriver.support import expected_conditions as EC\n",
    "from bs4 import BeautifulSoup\n",
    "import re\n",
    "import time\n",
    "\n",
    "    ##optional - use an ublock origin on the selenium window\n",
    "# path_to_extension = '1.30.6_0' ##path to ublock extension file\n",
    "# chrome_options = Options()\n",
    "# chrome_options.add_argument('load-extension=' + path_to_extension)\n",
    "\n",
    "chromedriver = ##path to chrome driver\n",
    "browser = webdriver.Chrome(executable_path=chromedriver)\n",
    "# browser.create_options() ##optional - for ublock\n",
    "\n",
    "url =' https://www.google.com/maps/'\n",
    "browser.get(url)"
   ]
  },
  {
   "cell_type": "code",
   "execution_count": null,
   "metadata": {},
   "outputs": [],
   "source": [
    "##plus code version - finds and searches the plus code in the location information, then converts the extended plus code from the url to longitude and latitude\n",
    "\n",
    "longlatlist = []\n",
    "\n",
    "def geocode(address):\n",
    "    time.sleep(1)\n",
    "    WebDriverWait(browser, 10).until(EC.element_to_be_clickable((By.XPATH, '//*[@id=\"searchboxinput\"]'))).send_keys(address)\n",
    "    time.sleep(1)\n",
    "    WebDriverWait(browser, 10).until(EC.element_to_be_clickable((By.XPATH, '//*[@id=\"searchbox-searchbutton\"]'))).click()\n",
    "\n",
    "    ##get short plus code\n",
    "    time.sleep(2)\n",
    "    WebDriverWait(browser, 10).until(EC.element_to_be_clickable((By.XPATH, '//*[@id=\"pane\"]/div/div[1]/div/div/div[8]')))\n",
    "    html = browser.page_source\n",
    "    soup = BeautifulSoup(html, \"html.parser\")\n",
    "    aria_label = soup.findAll(attrs={'aria-label': re.compile('\\w{4}\\+\\w{2}\\s(.*)')})\n",
    "    plus_code = re.findall('aria-label=\"(.*?)\"', str(aria_label))\n",
    "    plus_code = [i.replace('Plus code: ', '') for i in plus_code]\n",
    "    time.sleep(1)\n",
    "\n",
    "    ##search short plus code\n",
    "    WebDriverWait(browser, 10).until(EC.element_to_be_clickable((By.XPATH, '//*[@id=\"searchbox\"]/a'))).click()\n",
    "    time.sleep(1)\n",
    "    WebDriverWait(browser, 10).until(EC.element_to_be_clickable((By.XPATH, '//*[@id=\"searchboxinput\"]'))).send_keys(plus_code[0])\n",
    "    time.sleep(1)\n",
    "    WebDriverWait(browser, 10).until(EC.element_to_be_clickable((By.XPATH, '//*[@id=\"searchbox-searchbutton\"]'))).click()\n",
    "\n",
    "    ##get full plus code\n",
    "    WebDriverWait(browser, 10).until(EC.element_to_be_clickable((By.XPATH, '//*[@id=\"pane\"]/div/div[1]/div/div/div[8]')))\n",
    "    current_url = browser.current_url\n",
    "    full_p_code = re.findall('/place/(.*?)/', current_url)\n",
    "    full_p_code = full_p_code[0]\n",
    "    full_p_code = full_p_code.replace('%2B', \"\")\n",
    "\n",
    "    ##conversion\n",
    "    p_code_list = [full_p_code[i:i+1] for i in range(0, len(full_p_code), 1)]\n",
    "    plus_code_conversion = ['2','3','4','5','6','7','8','9','C','F','G','H','J','M','P','Q','R',\"V\",'W',\"X\"]\n",
    "    con_p_code_list = []\n",
    "    for i in p_code_list:\n",
    "        con_p_code_list.append(plus_code_conversion.index(i))\n",
    "    con_p_code_list = [float(i) for i in con_p_code_list]\n",
    "    multiplications = [20,20,1,1,0.05,0.05,0.0025,0.0025,0.000125,0.000125,0.000030125,0.000030125]\n",
    "    converted_p = []\n",
    "    for num1, num2 in zip(con_p_code_list, multiplications):\n",
    "        converted_p.append(num1 * num2)\n",
    "    lon = sum(converted_p[1::2]) - 180\n",
    "    lat = sum(converted_p[0::2]) - 90\n",
    "\n",
    "    ##output\n",
    "    longlatlist.append([lat,lon])"
   ]
  },
  {
   "cell_type": "code",
   "execution_count": null,
   "metadata": {},
   "outputs": [],
   "source": [
    "##version using url only, not plus code reliant - discovered later that the coordinates appear in the url itself, and is much more effective than the plus code method\n",
    "longlatlist = []\n",
    "\n",
    "def geocode(address):\n",
    "    time.sleep(1)\n",
    "    WebDriverWait(browser, 10).until(EC.element_to_be_clickable((By.XPATH, '//*[@id=\"searchboxinput\"]'))).send_keys(address)\n",
    "    time.sleep(1)\n",
    "    WebDriverWait(browser, 10).until(EC.element_to_be_clickable((By.XPATH, '//*[@id=\"searchbox-searchbutton\"]'))).click()\n",
    "\n",
    "    ##get long lat\n",
    "    WebDriverWait(browser, 10).until(EC.element_to_be_clickable((By.XPATH, '//*[@id=\"pane\"]/div/div[1]/div/div/div[8]')))\n",
    "    current_url = browser.current_url\n",
    "    longlat = current_url[-25:]\n",
    "    lat = longlat.split(\"!4d\")[0]\n",
    "    lon = longlat.split(\"!4d\")[1]\n",
    "    lat = lat.split('-')[1]\n",
    "    lat = '-'+lat\n",
    "\n",
    "    ##output\n",
    "    longlatlist.append([lat,lon])\n",
    "\n",
    "    time.sleep(2) ##to slow it down a bit just in case"
   ]
  },
  {
   "cell_type": "code",
   "execution_count": null,
   "metadata": {},
   "outputs": [],
   "source": [
    "for i in address:\n",
    "    try:\n",
    "        geocode(i)\n",
    "        try: \n",
    "            WebDriverWait(browser, 10).until(EC.element_to_be_clickable((By.XPATH, '//*[@id=\"searchbox\"]/a'))).click()\n",
    "            ##small wait before continuing\n",
    "            time.sleep(2)\n",
    "        except Exception:\n",
    "            continue\n",
    "    except Exception:\n",
    "        longlatlist.append([\"\",\"\"])\n",
    "        try: \n",
    "            WebDriverWait(browser, 10).until(EC.element_to_be_clickable((By.XPATH, '//*[@id=\"searchbox\"]/a'))).click()\n",
    "            ##small wait before continuing\n",
    "            time.sleep(2)\n",
    "        except Exception:\n",
    "            continue\n",
    "        continue\n",
    "\n",
    "browser.close()\n",
    "\n",
    "##combine searched address and resulting long lats in dictionary\n",
    "list_dict = dict(zip(address, longlatlist))\n",
    "\n",
    "list_dict"
   ]
  },
  {
   "cell_type": "code",
   "execution_count": null,
   "metadata": {},
   "outputs": [],
   "source": [
    "# see dictionary entries (addresses) where coordinates could not be found (value is empty list) - i.e. geocoding failed\n",
    "example = [\"\", \"\"]\n",
    "empty_dict = {k: v for k, v in list_dict.items() if v == example}\n",
    "empty_dict"
   ]
  },
  {
   "cell_type": "code",
   "execution_count": null,
   "metadata": {},
   "outputs": [],
   "source": [
    "# see % of dictionary entries where coordinates could not be found\n",
    "len(empty_dict.keys())/len(list_dict.keys())"
   ]
  },
  {
   "cell_type": "code",
   "execution_count": null,
   "metadata": {},
   "outputs": [],
   "source": [
    "##Dataframe saving in case direct excel does not work\n",
    "df1 = pd.DataFrame.from_dict(list_dict,orient='columns').transpose()\n",
    "\n",
    "path2 = ##saving file path\n",
    "\n",
    "df1.to_excel(path2)"
   ]
  },
  {
   "cell_type": "code",
   "execution_count": null,
   "metadata": {},
   "outputs": [],
   "source": [
    "##update an existing excel workbook with long lats\n",
    "from openpyxl import load_workbook\n",
    "import openpyxl\n",
    "\n",
    "book = load_workbook() ##add workbook load name here\n",
    "sheet0 = book[\"Sheet1\"]\n",
    "position = 1\n",
    "for i in address1:\n",
    "    key = sheet0.cell(column=1, row=position+1).value\n",
    "    sheet0.cell(column=6, row=position+1, value=list_dict[key][0])\n",
    "    sheet0.cell(column=7, row=position+1, value=list_dict[key][1])\n",
    "    position+=1\n",
    "book.save() ##add workbook save name here \n",
    "book.close()"
   ]
  }
 ]
}